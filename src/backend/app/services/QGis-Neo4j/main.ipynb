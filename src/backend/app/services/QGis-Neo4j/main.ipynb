{
 "cells": [
  {
   "cell_type": "code",
   "execution_count": null,
   "metadata": {},
   "outputs": [],
   "source": [
    "from qgis.core import QgsApplication, QgsVectorLayer, QgsProject\n",
    "from osgeo import ogr\n",
    "\n",
    "# Inicializar la aplicación QGIS\n",
    "QgsApplication.setPrefixPath(\"C:\\Program Files\\QGIS 3.32.3\", True)\n",
    "qgs = QgsApplication([], False)\n",
    "qgs.initQgis()\n"
   ]
  }
 ],
 "metadata": {
  "language_info": {
   "name": "python"
  }
 },
 "nbformat": 4,
 "nbformat_minor": 2
}
